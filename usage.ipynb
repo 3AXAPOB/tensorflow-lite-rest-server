{
 "nbformat": 4,
 "nbformat_minor": 2,
 "metadata": {
  "language_info": {
   "name": "python",
   "codemirror_mode": {
    "name": "ipython",
    "version": 3
   },
   "version": "3.7.3"
  },
  "orig_nbformat": 2,
  "file_extension": ".py",
  "mimetype": "text/x-python",
  "name": "python",
  "npconvert_exporter": "python",
  "pygments_lexer": "ipython3",
  "version": 3
 },
 "cells": [
  {
   "cell_type": "code",
   "execution_count": 5,
   "metadata": {},
   "outputs": [],
   "source": [
    "import requests\n",
    "import json\n",
    "\n",
    "IP = \"localhost\" # Pi3\n",
    "PREDICT_URL = f'http://{IP}:5000/v1/object/detection'\n",
    "\n",
    "IMAGE_PATH = \"images/people_car.jpg\"\n",
    "\n",
    "# load the input image and construct the payload for the request\n",
    "image = open(IMAGE_PATH, \"rb\").read()\n",
    "payload = {\"image\": image}"
   ]
  },
  {
   "cell_type": "code",
   "execution_count": 6,
   "metadata": {},
   "outputs": [
    {
     "name": "stdout",
     "output_type": "stream",
     "text": "CPU times: user 9.27 ms, sys: 1.64 ms, total: 10.9 ms\nWall time: 446 ms\n"
    }
   ],
   "source": [
    "%%time\n",
    "# submit the request\n",
    "response = requests.post(PREDICT_URL, files=payload)"
   ]
  },
  {
   "cell_type": "code",
   "execution_count": 7,
   "metadata": {},
   "outputs": [
    {
     "data": {
      "text/plain": "5"
     },
     "execution_count": 7,
     "metadata": {},
     "output_type": "execute_result"
    }
   ],
   "source": [
    "predictions = response.json()['objects']\n",
    "len(predictions)"
   ]
  },
  {
   "cell_type": "code",
   "execution_count": 8,
   "metadata": {},
   "outputs": [
    {
     "data": {
      "text/plain": "[{'box': [0.25783607363700867,\n   0.33058103919029236,\n   0.7246008515357971,\n   0.6428706645965576],\n  'name': 'car',\n  'score': 0.953125},\n {'box': [0.28432977199554443,\n   0.28714725375175476,\n   0.6788091659545898,\n   0.37872299551963806],\n  'name': 'person',\n  'score': 0.73046875},\n {'box': [0.524590253829956,\n   0.22533127665519714,\n   0.8592637777328491,\n   0.3502572476863861],\n  'name': 'bicycle',\n  'score': 0.66015625},\n {'box': [0.2879002094268799,\n   0.2565079927444458,\n   0.6752387285232544,\n   0.36057573556900024],\n  'name': 'person',\n  'score': 0.58203125},\n {'box': [0.30700039863586426,\n   0.871345043182373,\n   0.8164434432983398,\n   0.9612630605697632],\n  'name': 'person',\n  'score': 0.33984375}]"
     },
     "execution_count": 8,
     "metadata": {},
     "output_type": "execute_result"
    }
   ],
   "source": [
    "\n",
    "predictions\n",
    "\n"
   ]
  },
  {
   "cell_type": "code",
   "execution_count": null,
   "metadata": {},
   "outputs": [],
   "source": []
  }
 ]
}