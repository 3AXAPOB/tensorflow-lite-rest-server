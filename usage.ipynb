{
 "cells": [
  {
   "cell_type": "markdown",
   "metadata": {},
   "source": [
    "Check the server is running"
   ]
  },
  {
   "cell_type": "code",
   "execution_count": 2,
   "metadata": {},
   "outputs": [
    {
     "name": "stdout",
     "output_type": "stream",
     "text": [
      "Flask app exposing object detection model: mobilenet_ssd_v2_coco \r\n"
     ]
    }
   ],
   "source": [
    "!curl localhost:80/"
   ]
  },
  {
   "cell_type": "code",
   "execution_count": 4,
   "metadata": {},
   "outputs": [
    {
     "name": "stdout",
     "output_type": "stream",
     "text": [
      "live-test.py    people_car.jpg\r\n"
     ]
    }
   ],
   "source": [
    "ls tests/"
   ]
  },
  {
   "cell_type": "code",
   "execution_count": 14,
   "metadata": {},
   "outputs": [
    {
     "name": "stdout",
     "output_type": "stream",
     "text": [
      "http://localhost:80/v1/vision/detection\n"
     ]
    }
   ],
   "source": [
    "import requests\n",
    "import json\n",
    "from PIL import Image, ImageDraw\n",
    "from helpers import draw_box\n",
    "\n",
    "IP = \"localhost\" # Pi3\n",
    "PORT = 80\n",
    "PREDICT_URL = f'http://{IP}:{PORT}/v1/vision/detection'\n",
    "print(PREDICT_URL)\n",
    "\n",
    "IMAGE_PATH = \"tests/people_car.jpg\"\n",
    "\n",
    "# load the input image and construct the payload for the request\n",
    "image = open(IMAGE_PATH, \"rb\").read()\n",
    "payload = {\"image\": image}"
   ]
  },
  {
   "cell_type": "code",
   "execution_count": 15,
   "metadata": {},
   "outputs": [
    {
     "name": "stdout",
     "output_type": "stream",
     "text": [
      "CPU times: user 3.88 ms, sys: 2.25 ms, total: 6.13 ms\n",
      "Wall time: 129 ms\n"
     ]
    }
   ],
   "source": [
    "%%time\n",
    "# submit the request\n",
    "response = requests.post(PREDICT_URL, files=payload)"
   ]
  },
  {
   "cell_type": "code",
   "execution_count": 17,
   "metadata": {},
   "outputs": [
    {
     "data": {
      "text/plain": [
       "200"
      ]
     },
     "execution_count": 17,
     "metadata": {},
     "output_type": "execute_result"
    }
   ],
   "source": [
    "response.status_code"
   ]
  },
  {
   "cell_type": "code",
   "execution_count": 20,
   "metadata": {},
   "outputs": [
    {
     "data": {
      "text/plain": [
       "20"
      ]
     },
     "execution_count": 20,
     "metadata": {},
     "output_type": "execute_result"
    }
   ],
   "source": [
    "predictions = response.json()['predictions']\n",
    "len(predictions)"
   ]
  },
  {
   "cell_type": "code",
   "execution_count": 22,
   "metadata": {},
   "outputs": [
    {
     "name": "stdout",
     "output_type": "stream",
     "text": [
      "car: 0.93359375\n",
      "person: 0.7890625\n",
      "bicycle: 0.66015625\n",
      "person: 0.58203125\n",
      "person: 0.41796875\n",
      "person: 0.26953125\n",
      "person: 0.2109375\n",
      "person: 0.2109375\n",
      "person: 0.2109375\n",
      "person: 0.2109375\n",
      "car: 0.12109375\n",
      "person: 0.12109375\n",
      "person: 0.08984375\n",
      "car: 0.08984375\n",
      "potted plant: 0.08984375\n",
      "car: 0.08984375\n",
      "person: 0.08984375\n",
      "person: 0.08984375\n",
      "potted plant: 0.08984375\n",
      "person: 0.08984375\n"
     ]
    }
   ],
   "source": [
    "# ensure the request was successful\n",
    "for result in predictions:\n",
    "    print(f\"{result['label']}: {result['confidence']}\")"
   ]
  },
  {
   "cell_type": "code",
   "execution_count": null,
   "metadata": {},
   "outputs": [],
   "source": []
  }
 ],
 "metadata": {
  "file_extension": ".py",
  "kernelspec": {
   "display_name": "Python 3",
   "language": "python",
   "name": "python3"
  },
  "language_info": {
   "codemirror_mode": {
    "name": "ipython",
    "version": 3
   },
   "file_extension": ".py",
   "mimetype": "text/x-python",
   "name": "python",
   "nbconvert_exporter": "python",
   "pygments_lexer": "ipython3",
   "version": "3.7.0"
  },
  "mimetype": "text/x-python",
  "name": "python",
  "npconvert_exporter": "python",
  "pygments_lexer": "ipython3",
  "version": 3
 },
 "nbformat": 4,
 "nbformat_minor": 4
}
