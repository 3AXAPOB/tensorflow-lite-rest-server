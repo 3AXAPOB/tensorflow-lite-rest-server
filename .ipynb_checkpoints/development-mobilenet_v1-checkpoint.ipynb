{
 "cells": [
  {
   "cell_type": "markdown",
   "metadata": {},
   "source": [
    "* tflite python docs -> https://www.tensorflow.org/lite/guide/inference#load_and_run_a_model_in_python\n",
    "* example we are working from -> https://github.com/tensorflow/tensorflow/tree/master/tensorflow/lite/examples/python\n",
    "\n",
    "Download labels:\n",
    "```\n",
    "curl https://storage.googleapis.com/download.tensorflow.org/models/mobilenet_v1_1.0_224_frozen.tgz  | tar xzv -C /tmp  mobilenet_v1_1.0_224/labels.txt\n",
    "```"
   ]
  },
  {
   "cell_type": "code",
   "execution_count": 1,
   "metadata": {},
   "outputs": [],
   "source": [
    "import argparse\n",
    "import numpy as np\n",
    "import os\n",
    "from PIL import Image\n",
    "\n",
    "import tflite_runtime.interpreter as tflite"
   ]
  },
  {
   "cell_type": "code",
   "execution_count": 2,
   "metadata": {},
   "outputs": [],
   "source": [
    "all_models_dir = '/home/pi/github/edgetpu/test_data/'"
   ]
  },
  {
   "cell_type": "code",
   "execution_count": 3,
   "metadata": {},
   "outputs": [
    {
     "data": {
      "text/plain": [
       "['mobilenet_ssd_v2_face_quant_postprocess.tflite',\n",
       " 'sunflower.bmp',\n",
       " 'cocompilation',\n",
       " 'COPYRIGHT',\n",
       " 'efficientnet-edgetpu-S_quant_edgetpu.tflite',\n",
       " 'download_imprinting_test_data.sh',\n",
       " 'face.jpg',\n",
       " 'mobilenet_v1_0.5_160_quant_edgetpu.tflite',\n",
       " 'ssd_mobilenet_v1_fine_tuned.tflite',\n",
       " 'inat_plant_labels.txt',\n",
       " 'deeplabv3_mnv2_dm05_pascal_quant_edgetpu.tflite',\n",
       " 'mobilenet_v1_1.0_224_quant.tflite',\n",
       " 'mobilenet_v1_1.0_224_quant_embedding_extractor.tflite',\n",
       " 'mobilenet_v2_1.0_224_inat_plant_quant_edgetpu.tflite',\n",
       " 'grace_hopper.bmp',\n",
       " 'imprinting',\n",
       " 'cat_1080p.jpg',\n",
       " 'tools',\n",
       " 'mobilenet_v2_1.0_224_quant_edgetpu.tflite',\n",
       " 'download_coco_val_data.sh',\n",
       " 'mobilenet_v1_0.25_128_quant.tflite',\n",
       " 'cat.bmp',\n",
       " 'hot_dog.jpg',\n",
       " 'efficientnet-edgetpu-L_quant.tflite',\n",
       " 'mobilenet_v2_1.0_224_inat_plant_quant.tflite',\n",
       " 'inception_v3_299_quant.tflite',\n",
       " 'dragonfly.bmp',\n",
       " 'mobilenet_v1_1.0_224_l2norm_quant_edgetpu.tflite',\n",
       " 'inception_v4_299_quant.tflite',\n",
       " 'deeplabv3_mnv2_pascal_quant.tflite',\n",
       " 'cat_720p.jpg',\n",
       " 'open_image_v4_subset.copyright',\n",
       " 'mobilenet_v1_0.5_160_quant.tflite',\n",
       " 'deeplabv3_mnv2_pascal_quant_edgetpu.tflite',\n",
       " 'pascal_voc_segmentation_labels.txt',\n",
       " 'inception_v3_299_quant_edgetpu.tflite',\n",
       " 'mobilenet_v1_1.0_224_quant_embedding_extractor_edgetpu.tflite',\n",
       " 'inat_bird_labels.txt',\n",
       " 'mobilenet_ssd_v1_coco_quant_postprocess.tflite',\n",
       " 'coco_labels.txt',\n",
       " 'bird_segmentation.bmp',\n",
       " 'ssd_mobilenet_v1_fine_tuned_edgetpu.tflite',\n",
       " 'pets.jpg',\n",
       " 'inat_insect_labels.txt',\n",
       " 'imagenet_labels.txt',\n",
       " 'efficientnet-edgetpu-M_quant.tflite',\n",
       " 'owl.jpg',\n",
       " 'open_image_v4_subset.csv',\n",
       " 'inception_v1_224_quant_edgetpu.tflite',\n",
       " 'inception_v4_299_quant_edgetpu.tflite',\n",
       " 'resized_cat.bmp',\n",
       " 'mobilenet_v1_0.75_192_quant_edgetpu.tflite',\n",
       " 'efficientnet-edgetpu-M_quant_edgetpu.tflite',\n",
       " 'mobilenet_v2_1.0_224_quant.tflite',\n",
       " 'mobilenet_v1_0.75_192_quant.tflite',\n",
       " 'mobilenet_v1_0.25_128_quant_edgetpu.tflite',\n",
       " 'mobilenet_ssd_v1_coco_quant_postprocess_edgetpu.tflite',\n",
       " 'mobilenet_v2_1.0_224_inat_bird_quant_edgetpu.tflite',\n",
       " 'mobilenet_v2_1.0_224_inat_insect_quant.tflite',\n",
       " 'bird.bmp',\n",
       " 'inception_v1_224_quant.tflite',\n",
       " 'posenet',\n",
       " 'BUILD',\n",
       " 'mobilenet_ssd_v2_face_quant_postprocess_edgetpu.tflite',\n",
       " 'download_imagenet_val_data.sh',\n",
       " 'pet_labels.txt',\n",
       " 'parrot.jpg',\n",
       " 'mobilenet_v1_1.0_224_quant_edgetpu.tflite',\n",
       " 'efficientnet-edgetpu-L_quant_edgetpu.tflite',\n",
       " 'inception_v2_224_quant_edgetpu.tflite',\n",
       " 'mobilenet_v1_1.0_224_l2norm_quant.tflite',\n",
       " 'mobilenet_ssd_v2_coco_quant_postprocess_edgetpu.tflite',\n",
       " 'mobilenet_v2_1.0_224_inat_insect_quant_edgetpu.tflite',\n",
       " 'mobilenet_ssd_v2_coco_quant_postprocess.tflite',\n",
       " 'efficientnet-edgetpu-S_quant.tflite',\n",
       " 'deeplabv3_mnv2_dm05_pascal_quant.tflite',\n",
       " 'bird_segmentation_mask.bmp',\n",
       " 'mobilenet_v2_1.0_224_inat_bird_quant.tflite',\n",
       " 'download_oxford_17flowers.sh',\n",
       " 'inception_v2_224_quant.tflite',\n",
       " 'invalid_models']"
      ]
     },
     "execution_count": 3,
     "metadata": {},
     "output_type": "execute_result"
    }
   ],
   "source": [
    "os.listdir(all_models_dir)"
   ]
  },
  {
   "cell_type": "code",
   "execution_count": 4,
   "metadata": {},
   "outputs": [
    {
     "data": {
      "text/plain": [
       "'/home/pi/github/edgetpu/test_data/grace_hopper.bmp'"
      ]
     },
     "execution_count": 4,
     "metadata": {},
     "output_type": "execute_result"
    }
   ],
   "source": [
    "image = all_models_dir + 'grace_hopper.bmp'\n",
    "image"
   ]
  },
  {
   "cell_type": "code",
   "execution_count": 5,
   "metadata": {},
   "outputs": [
    {
     "data": {
      "text/plain": [
       "'/home/pi/github/edgetpu/test_data/mobilenet_v1_1.0_224_quant.tflite'"
      ]
     },
     "execution_count": 5,
     "metadata": {},
     "output_type": "execute_result"
    }
   ],
   "source": [
    "model_file = all_models_dir + 'mobilenet_v1_1.0_224_quant.tflite'\n",
    "model_file"
   ]
  },
  {
   "cell_type": "code",
   "execution_count": 6,
   "metadata": {},
   "outputs": [
    {
     "data": {
      "text/plain": [
       "'mobilenet_v1_1.0_224/labels.txt'"
      ]
     },
     "execution_count": 6,
     "metadata": {},
     "output_type": "execute_result"
    }
   ],
   "source": [
    "label_file = 'mobilenet_v1_1.0_224/labels.txt'\n",
    "label_file"
   ]
  },
  {
   "cell_type": "code",
   "execution_count": 7,
   "metadata": {},
   "outputs": [
    {
     "data": {
      "text/plain": [
       "['0:background',\n",
       " '1:tench, Tinca tinca',\n",
       " '2:goldfish, Carassius auratus',\n",
       " '3:great white shark, white shark, man-eater, man-eating shark, Carcharodon carcharias',\n",
       " '4:tiger shark, Galeocerdo cuvieri',\n",
       " '5:hammerhead, hammerhead shark',\n",
       " '6:electric ray, crampfish, numbfish, torpedo',\n",
       " '7:stingray',\n",
       " '8:cock',\n",
       " '9:hen']"
      ]
     },
     "execution_count": 7,
     "metadata": {},
     "output_type": "execute_result"
    }
   ],
   "source": [
    "def load_labels(filename):\n",
    "    with open(filename, 'r') as f:\n",
    "        return [line.strip() for line in f.readlines()]\n",
    "    \n",
    "labels = load_labels(label_file)\n",
    "\n",
    "labels[:10]"
   ]
  },
  {
   "cell_type": "code",
   "execution_count": 8,
   "metadata": {},
   "outputs": [],
   "source": [
    "interpreter = tflite.Interpreter(model_path=model_file)\n",
    "interpreter.allocate_tensors()\n",
    "\n",
    "input_details = interpreter.get_input_details()\n",
    "output_details = interpreter.get_output_details()"
   ]
  },
  {
   "cell_type": "code",
   "execution_count": 9,
   "metadata": {},
   "outputs": [
    {
     "data": {
      "text/plain": [
       "[{'name': 'input',\n",
       "  'index': 88,\n",
       "  'shape': array([  1, 224, 224,   3]),\n",
       "  'dtype': numpy.uint8,\n",
       "  'quantization': (0.0078125, 128)}]"
      ]
     },
     "execution_count": 9,
     "metadata": {},
     "output_type": "execute_result"
    }
   ],
   "source": [
    "input_details"
   ]
  },
  {
   "cell_type": "code",
   "execution_count": 10,
   "metadata": {},
   "outputs": [
    {
     "data": {
      "text/plain": [
       "[{'name': 'MobilenetV1/Predictions/Reshape_1',\n",
       "  'index': 87,\n",
       "  'shape': array([   1, 1001]),\n",
       "  'dtype': numpy.uint8,\n",
       "  'quantization': (0.00390625, 0)}]"
      ]
     },
     "execution_count": 10,
     "metadata": {},
     "output_type": "execute_result"
    }
   ],
   "source": [
    "output_details"
   ]
  },
  {
   "cell_type": "code",
   "execution_count": 11,
   "metadata": {},
   "outputs": [
    {
     "data": {
      "text/plain": [
       "False"
      ]
     },
     "execution_count": 11,
     "metadata": {},
     "output_type": "execute_result"
    }
   ],
   "source": [
    "# check the type of the input tensor\n",
    "floating_model = input_details[0]['dtype'] == np.float32\n",
    "floating_model"
   ]
  },
  {
   "cell_type": "code",
   "execution_count": 12,
   "metadata": {},
   "outputs": [
    {
     "name": "stdout",
     "output_type": "stream",
     "text": [
      "224\n"
     ]
    }
   ],
   "source": [
    "# NxHxWxC, H:1, W:2\n",
    "height = input_details[0]['shape'][1]\n",
    "print(height)\n",
    "width = input_details[0]['shape'][2]\n",
    "img = Image.open(image).resize((width, height))"
   ]
  },
  {
   "cell_type": "code",
   "execution_count": 13,
   "metadata": {},
   "outputs": [],
   "source": [
    "# add N dim\n",
    "input_data = np.expand_dims(img, axis=0)"
   ]
  },
  {
   "cell_type": "code",
   "execution_count": 14,
   "metadata": {},
   "outputs": [
    {
     "data": {
      "text/plain": [
       "(1, 224, 224, 3)"
      ]
     },
     "execution_count": 14,
     "metadata": {},
     "output_type": "execute_result"
    }
   ],
   "source": [
    "input_data.shape"
   ]
  },
  {
   "cell_type": "code",
   "execution_count": 15,
   "metadata": {},
   "outputs": [],
   "source": [
    "if floating_model:\n",
    "    input_data = (np.float32(input_data) - input_mean) / input_std"
   ]
  },
  {
   "cell_type": "code",
   "execution_count": 16,
   "metadata": {},
   "outputs": [
    {
     "name": "stdout",
     "output_type": "stream",
     "text": [
      "CPU times: user 148 ms, sys: 1.26 ms, total: 149 ms\n",
      "Wall time: 148 ms\n"
     ]
    }
   ],
   "source": [
    "%%time\n",
    "interpreter.set_tensor(input_details[0]['index'], input_data)\n",
    "\n",
    "interpreter.invoke()\n",
    "\n",
    "output_data = interpreter.get_tensor(output_details[0]['index'])"
   ]
  },
  {
   "cell_type": "code",
   "execution_count": 17,
   "metadata": {},
   "outputs": [
    {
     "data": {
      "text/plain": [
       "(1, 1001)"
      ]
     },
     "execution_count": 17,
     "metadata": {},
     "output_type": "execute_result"
    }
   ],
   "source": [
    "output_data.shape"
   ]
  },
  {
   "cell_type": "code",
   "execution_count": 18,
   "metadata": {},
   "outputs": [
    {
     "data": {
      "text/plain": [
       "168"
      ]
     },
     "execution_count": 18,
     "metadata": {},
     "output_type": "execute_result"
    }
   ],
   "source": [
    "output_data.max()"
   ]
  },
  {
   "cell_type": "code",
   "execution_count": 19,
   "metadata": {},
   "outputs": [],
   "source": [
    "results = np.squeeze(output_data)"
   ]
  },
  {
   "cell_type": "code",
   "execution_count": 20,
   "metadata": {},
   "outputs": [
    {
     "data": {
      "text/plain": [
       "(1001,)"
      ]
     },
     "execution_count": 20,
     "metadata": {},
     "output_type": "execute_result"
    }
   ],
   "source": [
    "results.shape"
   ]
  },
  {
   "cell_type": "code",
   "execution_count": 21,
   "metadata": {},
   "outputs": [
    {
     "data": {
      "text/plain": [
       "168"
      ]
     },
     "execution_count": 21,
     "metadata": {},
     "output_type": "execute_result"
    }
   ],
   "source": [
    "results.max()"
   ]
  },
  {
   "cell_type": "markdown",
   "metadata": {},
   "source": [
    "Get the index of the top results"
   ]
  },
  {
   "cell_type": "code",
   "execution_count": 22,
   "metadata": {},
   "outputs": [
    {
     "data": {
      "text/plain": [
       "array([653, 907, 458, 668, 466], dtype=int32)"
      ]
     },
     "execution_count": 22,
     "metadata": {},
     "output_type": "execute_result"
    }
   ],
   "source": [
    "top_k = results.argsort()[-5:][::-1]\n",
    "top_k"
   ]
  },
  {
   "cell_type": "code",
   "execution_count": 23,
   "metadata": {},
   "outputs": [
    {
     "name": "stdout",
     "output_type": "stream",
     "text": [
      "0.658824: 653:military uniform\n",
      "0.149020: 907:Windsor tie\n",
      "0.039216: 458:bow tie, bow-tie, bowtie\n",
      "0.027451: 668:mortarboard\n",
      "0.019608: 466:bulletproof vest\n"
     ]
    }
   ],
   "source": [
    "for i in top_k:\n",
    "    if floating_model:\n",
    "        print('{:08.6f}: {}'.format(float(results[i]), labels[i]))\n",
    "    else:\n",
    "        print('{:08.6f}: {}'.format(float(results[i] / 255.0), labels[i]))"
   ]
  },
  {
   "cell_type": "code",
   "execution_count": null,
   "metadata": {},
   "outputs": [],
   "source": []
  }
 ],
 "metadata": {
  "kernelspec": {
   "display_name": "Python 3",
   "language": "python",
   "name": "python3"
  },
  "language_info": {
   "codemirror_mode": {
    "name": "ipython",
    "version": 3
   },
   "file_extension": ".py",
   "mimetype": "text/x-python",
   "name": "python",
   "nbconvert_exporter": "python",
   "pygments_lexer": "ipython3",
   "version": "3.7.3"
  }
 },
 "nbformat": 4,
 "nbformat_minor": 4
}
